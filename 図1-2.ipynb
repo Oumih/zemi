{
 "cells": [
  {
   "cell_type": "code",
   "execution_count": null,
   "id": "e9c0cd35-6855-4d65-9edc-c2c536515f9d",
   "metadata": {},
   "outputs": [],
   "source": [
    "\"\"\"\n",
    "図１－２\n",
    "\"\"\"\n",
    "\n",
    "import numpy as np\n",
    "from matplotlib import pyplot as plt\n",
    "\n",
    "t = np.linspace(0, 10, 100)\n",
    "x = np.exp(-1j * t)\n",
    "\n",
    "fig = plt.figure()\n",
    "ax = fig.add_subplot()\n",
    "ax.plot(t, x.real, color = 'blue', linestyle = '--', label = 'real')\n",
    "ax.plot(t, x.imag, color = 'green', linestyle = '--', label = 'imag')\n",
    "ax.plot(t, np.abs(x), color = 'red', label = 'abs')\n",
    "\n",
    "plt.legend()\n",
    "plt.show()"
   ]
  }
 ],
 "metadata": {
  "kernelspec": {
   "display_name": "Python 3 (ipykernel)",
   "language": "python",
   "name": "python3"
  },
  "language_info": {
   "codemirror_mode": {
    "name": "ipython",
    "version": 3
   },
   "file_extension": ".py",
   "mimetype": "text/x-python",
   "name": "python",
   "nbconvert_exporter": "python",
   "pygments_lexer": "ipython3",
   "version": "3.11.2"
  }
 },
 "nbformat": 4,
 "nbformat_minor": 5
}
