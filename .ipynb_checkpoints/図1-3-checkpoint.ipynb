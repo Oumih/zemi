{
 "cells": [
  {
   "cell_type": "code",
   "execution_count": null,
   "id": "c1462b8d-acc5-4d28-b934-54fa872bccd7",
   "metadata": {},
   "outputs": [],
   "source": [
    "\"\"\"\n",
    "図１－３\n",
    "\"\"\"\n",
    "%matplotlib widget\n",
    "\n",
    "import numpy as np\n",
    "import matplotlib.patches as patch\n",
    "import matplotlib.pyplot as plt\n",
    "import matplotlib.animation as animation\n",
    "\n",
    "fig, ax = plt.subplots()\n",
    "ax.set_aspect('equal')\n",
    "ax.set_xlim([-2, 2])\n",
    "ax.set_ylim([-2, 2])\n",
    "\n",
    "\n",
    "#軸と添え字\n",
    "ax.plot(np.zeros(3), np.linspace(-2, 2, 3), c = 'black', alpha = 0.3)\n",
    "ax.plot(np.linspace(-2, 2, 3), np.zeros(3), c = 'black', alpha = 0.3)\n",
    "ax.text(0, 1.1,'ImΦ(t)')\n",
    "ax.text(1, 0,'ReΦ(t)')\n",
    "ax.text(1.1, -0.2, '1')\n",
    "ax.text(-0.2, 1.1, '1' )\n",
    "ax.text(-1.2, -0.2, '-1')\n",
    "ax.text(-0.2, -1.2, '-1')\n",
    "\n",
    "\n",
    "#円\n",
    "circ = patch.Circle((0, 0), 1,fill=False)\n",
    "ax.add_patch(circ)\n",
    "\n",
    "\n",
    "#矢印のアニメーション\n",
    "x, y = 0, 0\n",
    "u, v = 1, 0\n",
    "Q = plt.quiver(x, y, u, v, angles='xy', scale_units='xy', scale=1)\n",
    "unit = 0.1\n",
    "\n",
    "def update(t, Q, x, y):\n",
    "    theta = -1 * unit * np.pi * t \n",
    "    u = np.cos(theta)\n",
    "    v = np.sin(theta)\n",
    "    Q.set_UVC(u, v)\n",
    "    return Q,\n",
    "\n",
    "ani = animation.FuncAnimation(fig, update, fargs=(Q, x, y), interval=50, frames=360, blit=True)\n",
    "\n",
    "plt.show()"
   ]
  }
 ],
 "metadata": {
  "kernelspec": {
   "display_name": "Python 3 (ipykernel)",
   "language": "python",
   "name": "python3"
  },
  "language_info": {
   "codemirror_mode": {
    "name": "ipython",
    "version": 3
   },
   "file_extension": ".py",
   "mimetype": "text/x-python",
   "name": "python",
   "nbconvert_exporter": "python",
   "pygments_lexer": "ipython3",
   "version": "3.11.2"
  }
 },
 "nbformat": 4,
 "nbformat_minor": 5
}
